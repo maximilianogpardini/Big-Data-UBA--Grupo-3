{
 "cells": [
  {
   "cell_type": "code",
   "execution_count": null,
   "id": "6a6fb031-9b0d-4aed-b0ca-bca1c8ba7334",
   "metadata": {},
   "outputs": [],
   "source": [
    "# TP01 - UN PRIMER ENCUENTRO CON LA EPH – [Taller de Programación]\n",
    "## Alumnos:  Kostzer Federico - Meza Palma Manuel Humberto - Pardini Maximiliano Gabriel - \n",
    "## Fecha: 6/10/2025"
   ]
  }
 ],
 "metadata": {
  "kernelspec": {
   "display_name": "Python 3 (ipykernel)",
   "language": "python",
   "name": "python3"
  },
  "language_info": {
   "codemirror_mode": {
    "name": "ipython",
    "version": 3
   },
   "file_extension": ".py",
   "mimetype": "text/x-python",
   "name": "python",
   "nbconvert_exporter": "python",
   "pygments_lexer": "ipython3",
   "version": "3.13.5"
  }
 },
 "nbformat": 4,
 "nbformat_minor": 5
}
